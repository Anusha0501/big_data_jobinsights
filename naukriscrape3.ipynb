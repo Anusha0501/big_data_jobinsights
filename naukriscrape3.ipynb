{
 "cells": [
  {
   "cell_type": "code",
   "execution_count": null,
   "metadata": {},
   "outputs": [],
   "source": [
    "import pandas as pd\n",
    "import numpy as np\n",
    "import matplotlib.pyplot as plt\n",
    "import seaborn as sns\n",
    "%matplotlib inline\n",
    "import urllib.request\n",
    "import math\n",
    "import time\n",
    "from pandas import DataFrame, Series\n",
    "from urllib.request import Request, urlopen\n",
    "import requests\n",
    "from selenium import webdriver\n",
    "from selenium.webdriver.chrome.options import Options\n",
    "from selenium.webdriver import chrome\n",
    "from selenium.common.exceptions import *\n",
    "import datetime\n",
    "from selenium.webdriver.chrome.service import Service\n",
    "from selenium.webdriver.common.by import By\n",
    "from selenium.webdriver.support.ui import WebDriverWait\n",
    "from selenium.webdriver.support import expected_conditions as EC\n",
    "from selenium.common.exceptions import NoSuchElementException, TimeoutException, ElementClickInterceptedException, StaleElementReferenceException"
   ]
  },
  {
   "cell_type": "code",
   "execution_count": null,
   "metadata": {},
   "outputs": [],
   "source": [
    "# Initialize job data dictionary\n",
    "jobs = {\n",
    "    \"roles\": [],\n",
    "    \"companies\": [],\n",
    "    \"locations\": [],\n",
    "    \"experience\": [],\n",
    "    \"skills\": [],\n",
    "    \"Dates\": [],\n",
    "    \"PresentDate\": [],\n",
    "    \"salary\": [],\n",
    "}\n"
   ]
  },
  {
   "cell_type": "code",
   "execution_count": null,
   "metadata": {},
   "outputs": [],
   "source": [
    "# Setup for Selenium WebDriver\n",
    "service = Service('C:/Users/AYUSHI/Downloads/chromedriver-win64/chromedriver-win64/chromedriver.exe')\n",
    "driver = webdriver.Chrome(service=service)\n",
    "driver.implicitly_wait(10)  "
   ]
  },
  {
   "cell_type": "code",
   "execution_count": null,
   "metadata": {},
   "outputs": [],
   "source": [
    "MAX_PAGE_NUM = 2\n"
   ]
  },
  {
   "cell_type": "code",
   "execution_count": null,
   "metadata": {},
   "outputs": [],
   "source": [
    "base_url = \"https://www.naukri.com/jobs-in-india-602?industryTypeIdGid=135&industryTypeIdGid=136&industryTypeIdGid=137&industryTypeIdGid=138&industryTypeIdGid=139&industryTypeIdGid=140&industryTypeIdGid=141&industryTypeIdGid=142&industryTypeIdGid=143&industryTypeIdGid=144&industryTypeIdGid=145&industryTypeIdGid=146&industryTypeIdGid=147\"\n",
    "driver.get(base_url)\n",
    "time.sleep(3)  "
   ]
  },
  {
   "cell_type": "code",
   "execution_count": null,
   "metadata": {},
   "outputs": [],
   "source": [
    "for page in range(602,902):  # Start from page 301 to 500\n",
    "    print(f\"Scraping page {page}...\")\n",
    "    try:\n",
    "        # Locate job list\n",
    "        job_list = driver.find_elements(By.CSS_SELECTOR, \".srp-jobtuple-wrapper .sjw__tuple\")\n",
    "\n",
    "        for job in job_list:\n",
    "            try:\n",
    "                # Extract job details\n",
    "                role = job.find_element(By.CSS_SELECTOR, \".row1 .title\").text\n",
    "                company = job.find_element(By.CSS_SELECTOR, \".row2 .comp-dtls-wrap .comp-name\").text\n",
    "                location = job.find_element(By.CSS_SELECTOR, \".row3 .job-details .loc-wrap .loc span\").text\n",
    "                salaries = job.find_element(By.CSS_SELECTOR, \".row3 .job-details .sal-wrap .sal span\").text\n",
    "                exp = job.find_element(By.CSS_SELECTOR, \".row3 .job-details .exp-wrap .exp span\").text\n",
    "                date = job.find_element(By.CSS_SELECTOR, \".row6 .job-post-day\").text\n",
    "                skills = job.find_element(By.CSS_SELECTOR, \".row5 .tags-gt\").text\n",
    "\n",
    "                # Append job details to dictionary\n",
    "                today = datetime.datetime.today().strftime('%Y-%m-%d')\n",
    "                jobs[\"roles\"].append(role)\n",
    "                jobs[\"companies\"].append(company)\n",
    "                jobs[\"locations\"].append(location)\n",
    "                jobs[\"experience\"].append(exp)\n",
    "                jobs[\"salary\"].append(salaries)\n",
    "                jobs[\"Dates\"].append(date)\n",
    "                jobs[\"PresentDate\"].append(today)\n",
    "                jobs[\"skills\"].append(skills)\n",
    "            except NoSuchElementException:\n",
    "                pass  # Skip if any detail is missing\n",
    "\n",
    "        # Scroll to the \"Next\" button and click to go to the next page\n",
    "        try:\n",
    "            next_button = WebDriverWait(driver, 10).until(\n",
    "                EC.element_to_be_clickable((By.XPATH, \"//*[@id='lastCompMark']/a[2]/span\"))\n",
    "            )\n",
    "            # Ensure the button is visible\n",
    "            driver.execute_script(\"arguments[0].scrollIntoView(true);\", next_button)\n",
    "            time.sleep(1)  # Allow scroll to complete\n",
    "            try:\n",
    "                next_button.click()\n",
    "            except ElementClickInterceptedException:\n",
    "                print(\"Click intercepted. Retrying with JavaScript...\")\n",
    "                driver.execute_script(\"arguments[0].click();\", next_button)  # Force click\n",
    "            time.sleep(3)  # Allow the next page to load\n",
    "        except TimeoutException:\n",
    "            print(\"No 'Next' button found. Stopping the scraping process.\")\n",
    "            break\n",
    "\n",
    "    except NoSuchElementException:\n",
    "        print(f\"No more pages available after page {page}. Stopping.\")\n",
    "        break"
   ]
  },
  {
   "cell_type": "code",
   "execution_count": null,
   "metadata": {},
   "outputs": [],
   "source": [
    "driver.quit"
   ]
  },
  {
   "cell_type": "code",
   "execution_count": null,
   "metadata": {},
   "outputs": [],
   "source": [
    "df = pd.DataFrame(jobs)\n",
    "df.to_csv('Consumer3.csv', index=False)\n",
    "print(f\"Data scraped successfully and saved \")"
   ]
  }
 ],
 "metadata": {
  "kernelspec": {
   "display_name": "Python 3",
   "language": "python",
   "name": "python3"
  },
  "language_info": {
   "codemirror_mode": {
    "name": "ipython",
    "version": 3
   },
   "file_extension": ".py",
   "mimetype": "text/x-python",
   "name": "python",
   "nbconvert_exporter": "python",
   "pygments_lexer": "ipython3",
   "version": "3.11.0"
  }
 },
 "nbformat": 4,
 "nbformat_minor": 2
}
